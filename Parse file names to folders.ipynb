{
  "cells": [
    {
      "cell_type": "code",
      "source": [
        "# folder where json files are stored (all in same directory)\r\n",
        "folder = \"abfss://<<container_name>>@<<storage_account_name>>.dfs.core.windows.net/<<foldername>>/\""
      ],
      "outputs": [],
      "execution_count": 23,
      "metadata": {
        "tags": [
          "parameters"
        ]
      }
    },
    {
      "cell_type": "code",
      "source": [
        "files = mssparkutils.fs.ls(folder)"
      ],
      "outputs": [],
      "execution_count": 24,
      "metadata": {
        "jupyter": {
          "source_hidden": false,
          "outputs_hidden": false
        },
        "nteract": {
          "transient": {
            "deleting": false
          }
        }
      }
    },
    {
      "cell_type": "code",
      "source": [
        "# for each file, see if it contains one of these strings and if so, assign a folder_name\r\n",
        "# bottom piece is a copy statement (cp)...if you're feeling lucky, change it to move (mv)\r\n",
        "for i in files:\r\n",
        "    if i.name.endswith('.json'):\r\n",
        "        src_file = i.path\r\n",
        "        if i.name.find('Agent Interaction Type Query') > 0: folder_name = 'agent_interaction_type_query/'\r\n",
        "        if i.name.find('Agent Performance Summary') > 0: folder_name = 'agent_performance_summary/'\r\n",
        "        if i.name.find('Conversation Detail Request') > 0: folder_name = 'conversation_detail_request/'\r\n",
        "        if i.name.find('Conversation Summary') > 0: folder_name = 'conversation_summary/'\r\n",
        "        if i.name.find('Queue Historical Statistics') > 0: folder_name = 'queue_historical_statistics/'\r\n",
        "        if i.name.find('Queue Observations Query') > 0: folder_name = 'queue_observations_query/'\r\n",
        "        if i.name.find('User Login Query') > 0: folder_name = 'user_login_query/'\r\n",
        "        if i.name.find('User Summary') > 0: folder_name = 'user_summary/'\r\n",
        "        dest_file = folder + folder_name + i.name[:4] + '/' + i.name[5:7] + '/' + i.name[8:10] + '/' + i.name\r\n",
        "        # print(src_file)\r\n",
        "        # print(dest_file)\r\n",
        "        mssparkutils.fs.cp(src_file, dest_file, recurse=False)"
      ],
      "outputs": [],
      "execution_count": 25,
      "metadata": {
        "jupyter": {
          "source_hidden": false,
          "outputs_hidden": false
        },
        "nteract": {
          "transient": {
            "deleting": false
          }
        }
      }
    }
  ],
  "metadata": {
    "kernelspec": {
      "name": "synapse_pyspark",
      "display_name": "Synapse PySpark"
    },
    "language_info": {
      "name": "python"
    },
    "save_output": true,
    "synapse_widget": {
      "version": "0.1",
      "state": {}
    }
  },
  "nbformat": 4,
  "nbformat_minor": 2
}