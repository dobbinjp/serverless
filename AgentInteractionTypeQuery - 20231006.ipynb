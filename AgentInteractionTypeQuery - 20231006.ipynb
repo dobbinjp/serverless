{
  "cells": [
    {
      "cell_type": "code",
      "source": [
        "import pyspark.sql.functions as F\r\n",
        "from pyspark.sql.types import *"
      ],
      "outputs": [],
      "execution_count": 1,
      "metadata": {
        "jupyter": {
          "source_hidden": false,
          "outputs_hidden": false
        },
        "nteract": {
          "transient": {
            "deleting": false
          }
        }
      }
    },
    {
      "cell_type": "code",
      "source": [
        "folder_location = \"abfss://raw@<<storage_account_name>>.dfs.core.windows.net/missouri/agent_interaction_type_query/*/*/*/\"\r\n",
        "silver_folder = \"abfss://silver@<<storage_account_name>>.dfs.core.windows.net/mo/delta/genesys/agent_interaction_type_query_sparkdemo\""
      ],
      "outputs": [],
      "execution_count": 45,
      "metadata": {}
    },
    {
      "cell_type": "code",
      "source": [
        "input_schema = spark.read.format(\"json\").load(folder_location).schema"
      ],
      "outputs": [],
      "execution_count": 12,
      "metadata": {
        "jupyter": {
          "source_hidden": false,
          "outputs_hidden": false
        },
        "nteract": {
          "transient": {
            "deleting": false
          }
        }
      }
    },
    {
      "cell_type": "code",
      "source": [
        "df = spark.readStream.format(\"json\").schema(input_schema).load(folder_location)\r\n",
        "df.createOrReplaceTempView(\"df\")"
      ],
      "outputs": [],
      "execution_count": 39,
      "metadata": {
        "jupyter": {
          "source_hidden": false,
          "outputs_hidden": false
        },
        "nteract": {
          "transient": {
            "deleting": false
          }
        }
      }
    },
    {
      "cell_type": "code",
      "source": [
        "%%sql\r\n",
        "\r\n",
        "create or replace TEMPORARY view df1 as \r\n",
        "select exploded.* from \r\n",
        "(select explode(results) as exploded from df) as x"
      ],
      "outputs": [],
      "execution_count": 40,
      "metadata": {
        "jupyter": {
          "source_hidden": false,
          "outputs_hidden": false
        },
        "nteract": {
          "transient": {
            "deleting": false
          }
        },
        "microsoft": {
          "language": "sparksql"
        },
        "collapsed": false
      }
    },
    {
      "cell_type": "code",
      "source": [
        "%%sql\r\n",
        "\r\n",
        "create or replace TEMPORARY view df2 as \r\n",
        "select dataexploded.interval as data_interval,\r\n",
        "    explode(dataexploded.metrics) as metricsexploded, \r\n",
        "    group1.*\r\n",
        "from \r\n",
        "(select explode(data) as dataexploded, group as group1 from df1) as x"
      ],
      "outputs": [],
      "execution_count": 41,
      "metadata": {
        "jupyter": {
          "source_hidden": false,
          "outputs_hidden": false
        },
        "nteract": {
          "transient": {
            "deleting": false
          }
        },
        "microsoft": {
          "language": "sparksql"
        },
        "collapsed": false
      }
    },
    {
      "cell_type": "code",
      "source": [
        "%%sql\r\n",
        "\r\n",
        "create or replace TEMPORARY view df3 as \r\n",
        "select data_interval, metric, stats.*, direction, interactionType, mediaType, userId\r\n",
        "from\r\n",
        "(select data_interval, metricsexploded.*, direction, interactionType, mediaType, userId from df2)"
      ],
      "outputs": [],
      "execution_count": 42,
      "metadata": {
        "jupyter": {
          "source_hidden": false,
          "outputs_hidden": false
        },
        "nteract": {
          "transient": {
            "deleting": false
          }
        },
        "microsoft": {
          "language": "sparksql"
        },
        "collapsed": false
      }
    },
    {
      "cell_type": "code",
      "source": [
        "output_df = spark.sql(\"select * from df3;\")"
      ],
      "outputs": [],
      "execution_count": 43,
      "metadata": {
        "jupyter": {
          "source_hidden": false,
          "outputs_hidden": false
        },
        "nteract": {
          "transient": {
            "deleting": false
          }
        },
        "microsoft": {},
        "collapsed": false
      }
    },
    {
      "cell_type": "code",
      "source": [
        "streamingQuery = (output_df\r\n",
        "    .writeStream\r\n",
        "    .format(\"delta\")\r\n",
        "    .option(\"checkpointLocation\", silver_folder + \"/checkpoint\")\r\n",
        "    .option(\"mergeSchema\", True)\r\n",
        "    .outputMode(\"append\")\r\n",
        "    .queryName(\"agent_interaction_type_query_stream\")\r\n",
        "    .trigger(once=True)\r\n",
        "    .start(silver_folder)\r\n",
        ")"
      ],
      "outputs": [],
      "execution_count": 47,
      "metadata": {
        "jupyter": {
          "source_hidden": false,
          "outputs_hidden": false
        },
        "nteract": {
          "transient": {
            "deleting": false
          }
        }
      }
    },
    {
      "cell_type": "code",
      "source": [
        "for s in spark.streams.active:\r\n",
        "    print(s.name)\r\n",
        "    print(s.status)\r\n",
        "    print(s.lastProgress)\r\n",
        "    s.awaitTermination()"
      ],
      "outputs": [],
      "execution_count": 48,
      "metadata": {
        "jupyter": {
          "source_hidden": false,
          "outputs_hidden": false
        },
        "nteract": {
          "transient": {
            "deleting": false
          }
        }
      }
    },
    {
      "cell_type": "code",
      "source": [
        "%%sql\r\n",
        "\r\n",
        "create database if not exists Missouri_ADLS;"
      ],
      "outputs": [],
      "execution_count": 49,
      "metadata": {
        "jupyter": {
          "source_hidden": false,
          "outputs_hidden": false
        },
        "nteract": {
          "transient": {
            "deleting": false
          }
        },
        "microsoft": {
          "language": "sparksql"
        },
        "collapsed": false
      }
    },
    {
      "cell_type": "code",
      "source": [
        "%%sql\r\n",
        "\r\n",
        "use database Missouri_ADLS"
      ],
      "outputs": [],
      "execution_count": 50,
      "metadata": {
        "jupyter": {
          "source_hidden": false,
          "outputs_hidden": false
        },
        "nteract": {
          "transient": {
            "deleting": false
          }
        },
        "microsoft": {
          "language": "sparksql"
        },
        "collapsed": false
      }
    },
    {
      "cell_type": "code",
      "source": [
        "%%sql\r\n",
        "\r\n",
        "create table if not exists Missouri_ADLS.agent_interaction_type_query\r\n",
        "using delta\r\n",
        "location 'abfss://silver@<<storage_account_name>>.dfs.core.windows.net/mo/delta/genesys/agent_interaction_type_query_sparkdemo'"
      ],
      "outputs": [],
      "execution_count": 51,
      "metadata": {
        "jupyter": {
          "source_hidden": false,
          "outputs_hidden": false
        },
        "nteract": {
          "transient": {
            "deleting": false
          }
        },
        "microsoft": {
          "language": "sparksql"
        },
        "collapsed": false
      }
    }
  ],
  "metadata": {
    "kernelspec": {
      "name": "synapse_pyspark",
      "display_name": "Synapse PySpark"
    },
    "language_info": {
      "name": "python"
    },
    "save_output": true,
    "synapse_widget": {
      "version": "0.1",
      "state": {}
    }
  },
  "nbformat": 4,
  "nbformat_minor": 2
}